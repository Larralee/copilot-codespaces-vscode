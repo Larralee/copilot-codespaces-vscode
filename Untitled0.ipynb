{
  "nbformat": 4,
  "nbformat_minor": 0,
  "metadata": {
    "colab": {
      "provenance": [],
      "authorship_tag": "ABX9TyNvAS5y4nMHbSdqo7NU+A5Z",
      "include_colab_link": true
    },
    "kernelspec": {
      "name": "python3",
      "display_name": "Python 3"
    },
    "language_info": {
      "name": "python"
    }
  },
  "cells": [
    {
      "cell_type": "markdown",
      "metadata": {
        "id": "view-in-github",
        "colab_type": "text"
      },
      "source": [
        "<a href=\"https://colab.research.google.com/github/Larralee/copilot-codespaces-vscode/blob/main/Untitled0.ipynb\" target=\"_parent\"><img src=\"https://colab.research.google.com/assets/colab-badge.svg\" alt=\"Open In Colab\"/></a>"
      ]
    },
    {
      "cell_type": "markdown",
      "source": [
        "Implement tokenization using the spaCy library instead of the NLTK library."
      ],
      "metadata": {
        "id": "f1mX_YFBM8__"
      }
    },
    {
      "cell_type": "code",
      "execution_count": 2,
      "metadata": {
        "colab": {
          "base_uri": "https://localhost:8080/"
        },
        "id": "-cjzL3MzK-Dh",
        "outputId": "bff09fb4-b75c-4e46-e193-c3e408e77d64"
      },
      "outputs": [
        {
          "output_type": "stream",
          "name": "stdout",
          "text": [
            "['Sommaren', 'är', 'bäst', 'i', 'Sverige', 'när', 'bäst', 'är', 'först']\n",
            "Counter({'är': 2, 'bäst': 2, 'Sommaren': 1, 'i': 1, 'Sverige': 1, 'när': 1, 'först': 1})\n",
            "[('är', 2), ('bäst', 2), ('Sommaren', 1)]\n"
          ]
        }
      ],
      "source": [
        "#!pip install spacy\n",
        "#!pip install numpy\n",
        "#!pip install spacy\n",
        "#!python -m spacy download sv_core_news_sm\n",
        "#from collections import Counter\n",
        "import spacy\n",
        "from collections import Counter\n",
        "\n",
        "\n",
        "nlp = spacy.load(\"sv_core_news_sm\")                                 # Ladda den svenska språkmodellen i spaCy\n",
        "\n",
        "\n",
        "data = \"Sommaren är bäst i Sverige när bäst är först\"\n",
        "\n",
        "# Bearbeta texten med spaCy för tokenisering\n",
        "doc = nlp(data)\n",
        "\n",
        "# Extrahera tokens (ord) från den bearbetade texten\n",
        "tokens = [token.text for token in doc]\n",
        "\n",
        "# Skapa en frekvensfördelning med Counter\n",
        "fd = Counter(tokens)\n",
        "\n",
        "# Skriv ut tokenlistan och frekvensfördelningen\n",
        "print(tokens)\n",
        "print(fd)\n",
        "\n",
        "# Skriv ut de tre mest vanliga token\n",
        "print(fd.most_common(3))\n",
        "\n",
        "#\t•\tnlp = spacy.load(\"sv_core_news_sm\"): Laddar den svenska språkmodellen för tokenisering och textbearbetning.\n",
        "#\t•\tdoc = nlp(data): Bearbetar texten och skapar en doc-objekt som innehåller alla tokens (ord).\n",
        "#\t•\ttokens = [token.text for token in doc]: Extraherar de enskilda orden (tokens) från doc.\n",
        "#\t•\tfd = Counter(tokens): Använder Counter från collections för att skapa en frekvensfördelning, vilket är ett enklare sätt att räkna förekomster av varje ord.\n",
        "#\t•\tfd.most_common(3): Hämtar de tre mest frekventa tokens."
      ]
    }
  ]
}